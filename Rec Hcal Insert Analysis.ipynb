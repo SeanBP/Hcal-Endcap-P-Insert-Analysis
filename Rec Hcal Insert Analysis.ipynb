{
 "cells": [
  {
   "cell_type": "code",
   "execution_count": 1,
   "metadata": {},
   "outputs": [],
   "source": [
    "import uproot as ur\n",
    "import matplotlib.pyplot as plt\n",
    "import statistics\n",
    "import k3d\n",
    "import numpy as np\n",
    "import awkward as ak\n",
    "import mplhep as hep\n",
    "import matplotlib.colors as mcolors\n",
    "from scipy.stats import norm\n",
    "import scipy"
   ]
  },
  {
   "cell_type": "code",
   "execution_count": 2,
   "metadata": {},
   "outputs": [
    {
     "name": "stdout",
     "output_type": "stream",
     "text": [
      "0\n",
      "100\n",
      "200\n",
      "300\n",
      "400\n",
      "500\n",
      "600\n",
      "700\n",
      "800\n",
      "900\n",
      "1000\n",
      "1100\n",
      "1200\n",
      "1300\n",
      "1400\n",
      "1500\n",
      "1600\n",
      "1700\n",
      "1800\n",
      "1900\n",
      "2000\n",
      "2100\n",
      "2200\n",
      "2300\n",
      "2400\n",
      "2500\n",
      "2600\n",
      "2700\n",
      "2800\n",
      "2900\n",
      "3000\n",
      "3100\n",
      "3200\n",
      "3300\n",
      "3400\n",
      "3500\n",
      "3600\n",
      "3700\n",
      "3800\n",
      "3900\n",
      "4000\n",
      "4100\n",
      "4200\n",
      "4300\n",
      "4400\n",
      "4500\n",
      "4600\n",
      "4700\n",
      "4800\n",
      "4900\n"
     ]
    },
    {
     "data": {
      "text/plain": [
       "<Figure size 576x432 with 0 Axes>"
      ]
     },
     "metadata": {},
     "output_type": "display_data"
    }
   ],
   "source": [
    "#Open root file\n",
    "input_file = 'rec_cal_output.edm4hep.root '\n",
    "events = ur.open(\"%s:events\"%(input_file))\n",
    "arrays = events.arrays()\n",
    "\n",
    "#gather arrays of reconstructed hits data\n",
    "recoenergy = arrays['HcalEndcapPInsertHitsReco.energy']\n",
    "recotime = arrays['HcalEndcapPInsertHitsReco.time']\n",
    "recox = arrays['HcalEndcapPInsertHitsReco.position.x']\n",
    "recoy = arrays['HcalEndcapPInsertHitsReco.position.y']\n",
    "recoz = arrays['HcalEndcapPInsertHitsReco.position.z']\n",
    "\n",
    "#Create 1D arrays for reconstructed hit data\n",
    "RecoEventEnergies = []\n",
    "RecoHitEnergies = []\n",
    "RecoTimes = []\n",
    "RecoXpos = []\n",
    "RecoYpos = []\n",
    "RecoZpos = []\n",
    "\n",
    "#Gather arrays of generated primary particles\n",
    "cut_primary = arrays[\"MCParticles.generatorStatus\"]==1\n",
    "px = arrays['MCParticles.momentum.x'][cut_primary]\n",
    "py = arrays['MCParticles.momentum.y'][cut_primary]\n",
    "pz = arrays['MCParticles.momentum.z'][cut_primary]\n",
    "mass = arrays[\"MCParticles.mass\"][cut_primary]\n",
    "\n",
    "#Calculate generated primary particle properties\n",
    "mom = np.sqrt(px**2+py**2+pz**2)\n",
    "energy = np.sqrt(mom**2+mass**2)\n",
    "fig = plt.figure( figsize=(8, 6))\n",
    "phi = np.arctan2(py,px)\n",
    "\n",
    "#Create 1D arrays for generated primary particles data\n",
    "GenEnergies = []\n",
    "Phis = []\n",
    "\n",
    "#Create 1D arrays for other calculated variables\n",
    "EnergyResolution = []\n",
    "\n",
    "for i in range(len(energy)):\n",
    "    GenEnergies.append(energy[i][0])\n",
    "\n",
    "#Loop over all events\n",
    "for i in range(len(recoenergy)):\n",
    "#for i in range(500):   \n",
    "    #Reset all calculated event-level calculations\n",
    "    EventEnergy = 0\n",
    "    \n",
    "    #Loop over all hits within an event\n",
    "    for j in range(len(recoenergy[i])):\n",
    "        if recoenergy[i][j] < 0:\n",
    "            print(i)\n",
    "            print(j)\n",
    "            print(recoenergy[i][j])\n",
    "        \n",
    "        #Apply any hit-level cuts\n",
    "        if recoenergy[i][j] < 1000 and recoenergy[i][j] > 0.0006 and recotime[i][j] < 200:\n",
    "            \n",
    "            #Sum all non-cut hit energies within an event to determine the reconstructed event energy\n",
    "            EventEnergy += recoenergy[i][j]\n",
    "            \n",
    "            #Append hit data to 1D arrays\n",
    "            RecoXpos.append(recox[i][j])\n",
    "            RecoYpos.append(recoy[i][j])\n",
    "            RecoZpos.append(recoz[i][j])\n",
    "            RecoHitEnergies.append(recoenergy[i][j])\n",
    "            RecoTimes.append(recotime[i][j])\n",
    "            \n",
    "    RecoEventEnergies.append(EventEnergy)        \n",
    "    #Apply any event-level cuts    \n",
    "\n",
    "    #Print progress\n",
    "    if i % 100 == 0:\n",
    "        print(i)\n"
   ]
  },
  {
   "cell_type": "code",
   "execution_count": 7,
   "metadata": {},
   "outputs": [
    {
     "data": {
      "image/png": "[encoded data removed]",
      "text/plain": [
       "<Figure size 576x432 with 1 Axes>"
      ]
     },
     "metadata": {},
     "output_type": "display_data"
    },
    {
     "name": "stdout",
     "output_type": "stream",
     "text": [
      "Mean:\n",
      "0.43734969725263073\n",
      "Sigma:\n",
      "0.07701609445314553\n"
     ]
    }
   ],
   "source": [
    "from scipy.optimize import curve_fit\n",
    "\n",
    "def gaussian(x, amp, mean, sigma):\n",
    "    return amp * np.exp( -(x - mean)**2 / (2*sigma**2) ) \n",
    "\n",
    "\n",
    "fig = plt.figure( figsize=(8, 6), facecolor='w')\n",
    "\n",
    "hist_data, bins, patches = plt.hist(RecoEventEnergies, bins=100, range=[0, 1])\n",
    "\n",
    "x = np.linspace(0, 1, 100)\n",
    "y = hist_data\n",
    "popt, pcov = curve_fit(gaussian, x, y, p0=(1, -0.99, 1))\n",
    "resolution = RecoEventEnergies\n",
    "y = gaussian(x, *popt)\n",
    "plt.plot(x, y, color='r')\n",
    "plt.xlabel('Reconstructed Energy (50 GeV)')\n",
    "\n",
    "plt.show()\n",
    "mu, sigma = scipy.stats.norm.fit(RecoEventEnergies)\n",
    "print(\"Mean:\")\n",
    "print(mu)\n",
    "print(\"Sigma:\")\n",
    "print(sigma)"
   ]
  },
  {
   "cell_type": "code",
   "execution_count": 18,
   "metadata": {},
   "outputs": [
    {
     "data": {
      "image/png": "[encoded data removed]",
      "text/plain": [
       "<Figure size 432x288 with 1 Axes>"
      ]
     },
     "metadata": {
      "needs_background": "light"
     },
     "output_type": "display_data"
    }
   ],
   "source": [
    "#Plot reco energy histogram\n",
    "plt.hist(GenEnergies, bins=100)\n",
    "plt.xlabel('Reconstructed Event Energy (GeV)')\n",
    "plt.ylabel('Count')\n",
    "plt.show()"
   ]
  },
  {
   "cell_type": "code",
   "execution_count": 19,
   "metadata": {},
   "outputs": [
    {
     "data": {
      "image/png": "[encoded data removed]",
      "text/plain": [
       "<Figure size 432x288 with 1 Axes>"
      ]
     },
     "metadata": {
      "needs_background": "light"
     },
     "output_type": "display_data"
    }
   ],
   "source": [
    "#Plot hit time histogram\n",
    "plt.hist(RecoTimes,bins=100, range=(0,200),label='HCAL')\n",
    "plt.yscale('log')\n",
    "plt.xlabel('time (ns)')\n",
    "plt.ylabel('hits')\n",
    "plt.show()"
   ]
  },
  {
   "cell_type": "code",
   "execution_count": 13,
   "metadata": {},
   "outputs": [
    {
     "data": {
      "image/png": "[encoded data removed]",
      "text/plain": [
       "<Figure size 576x576 with 1 Axes>"
      ]
     },
     "metadata": {
      "needs_background": "light"
     },
     "output_type": "display_data"
    }
   ],
   "source": [
    "#Plot Z Y hit distribution\n",
    "fig = plt.figure( figsize=(8, 8))\n",
    "plt.hist2d(RecoZpos,RecoYpos,bins=50, range=([3500,5000],[-500,500]),norm=mcolors.PowerNorm(0.2))\n",
    "plt.show()"
   ]
  },
  {
   "cell_type": "code",
   "execution_count": null,
   "metadata": {},
   "outputs": [],
   "source": []
  }
 ],
 "metadata": {
  "kernelspec": {
   "display_name": "Python 3",
   "language": "python",
   "name": "python3"
  },
  "language_info": {
   "codemirror_mode": {
    "name": "ipython",
    "version": 3
   },
   "file_extension": ".py",
   "mimetype": "text/x-python",
   "name": "python",
   "nbconvert_exporter": "python",
   "pygments_lexer": "ipython3",
   "version": "3.7.6"
  }
 },
 "nbformat": 4,
 "nbformat_minor": 4
}
